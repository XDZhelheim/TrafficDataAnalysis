{
 "metadata": {
  "language_info": {
   "codemirror_mode": {
    "name": "ipython",
    "version": 3
   },
   "file_extension": ".py",
   "mimetype": "text/x-python",
   "name": "python",
   "nbconvert_exporter": "python",
   "pygments_lexer": "ipython3",
   "version": "3.8.5"
  },
  "orig_nbformat": 2,
  "kernelspec": {
   "name": "python385jvsc74a57bd04ce0e62306dd6a5716965d4519ada776f947e6dfc145b604b11307c10277ef29",
   "display_name": "Python 3.8.5 64-bit"
  }
 },
 "nbformat": 4,
 "nbformat_minor": 2,
 "cells": [
  {
   "cell_type": "code",
   "execution_count": 5,
   "metadata": {},
   "outputs": [],
   "source": [
    "import psycopg2\n",
    "\n",
    "conn=psycopg2.connect(database=\"chengdu_taxi\", user=\"checker\", password=\"201205\", port=\"6666\")\n",
    "\n",
    "cursor=conn.cursor()"
   ]
  },
  {
   "cell_type": "code",
   "execution_count": 6,
   "metadata": {},
   "outputs": [
    {
     "output_type": "stream",
     "name": "stdout",
     "text": [
      "(104.07437, 30.71442, 104.07437, 30.71442, 0.0, '[(104.07437, 30.71442)]')\n(104.07437, 30.71442, 104.07431, 30.71446, 7.260064822757936, '[(104.07437, 30.71442), (104.07431, 30.71446)]')\n(104.07437, 30.71442, 104.07436, 30.71431, 12.234063579284895, '[(104.07437, 30.71442), (104.07436, 30.71431)]')\n(104.07437, 30.71442, 104.07423, 30.71451, 16.71889678545483, '[(104.07437, 30.71442), (104.07431, 30.71446), (104.07423, 30.71451)]')\n(104.07437, 30.71442, 104.07449, 30.71425, 22.078137949920464, '[(104.07437, 30.71442), (104.07449, 30.71425)]')\n(104.07437, 30.71442, 104.07418, 30.71443, 34.01426814156872, '[(104.07437, 30.71442), (104.07436, 30.71431), (104.07418, 30.71443)]')\n(104.07437, 30.71442, 104.07389, 30.71473, 57.413558164257395, '[(104.07437, 30.71442), (104.07431, 30.71446), (104.07423, 30.71451), (104.07389, 30.71473)]')\n(104.07437, 30.71442, 104.07382, 30.71478, 66.11431858902418, '[(104.07437, 30.71442), (104.07431, 30.71446), (104.07423, 30.71451), (104.07389, 30.71473), (104.07382, 30.71478)]')\n(104.07437, 30.71442, 104.07383, 30.71465, 75.48795511371661, '[(104.07437, 30.71442), (104.07436, 30.71431), (104.07418, 30.71443), (104.07383, 30.71465)]')\n(104.07437, 30.71442, 104.07524, 30.71376, 112.15954208420055, '[(104.07437, 30.71442), (104.07449, 30.71425), (104.07524, 30.71376)]')\n"
     ]
    }
   ],
   "source": [
    "cursor.execute(\"select * from dijkstra limit 10\")\n",
    "\n",
    "results=cursor.fetchall()\n",
    "for row in results:\n",
    "    print(row)"
   ]
  },
  {
   "cell_type": "code",
   "execution_count": 7,
   "metadata": {},
   "outputs": [
    {
     "output_type": "stream",
     "name": "stdout",
     "text": [
      "[(104.07437, 30.71442), (104.07436, 30.71431), (104.07431, 30.71446), (104.07418, 30.71443), (104.07423, 30.71451), (104.07449, 30.71425), (104.07383, 30.71465), (104.07389, 30.71473), (104.07382, 30.71478), (104.07452, 30.71324)]\n-------------------\n[(104.07431, 30.71923), (104.07423, 30.71866), (104.07422, 30.71862), (104.0744, 30.7192), (104.07425, 30.71937), (104.07421, 30.71853), (104.0741517, 30.7180852), (104.07435, 30.72), (104.07455, 30.72008), (104.07403, 30.71734)]\n"
     ]
    }
   ],
   "source": [
    "p1=(104.07437, 30.71440)\n",
    "p2=(104.07389, 30.71899)\n",
    "\n",
    "sql=\"select * from nodes order by abs({}-lng)+abs({}-lat)\".format(p1[0], p1[1])\n",
    "cursor.execute(sql)\n",
    "start_nodes=cursor.fetchall()\n",
    "\n",
    "sql=\"select * from nodes order by abs({}-lng)+abs({}-lat)\".format(p2[0], p2[1])\n",
    "cursor.execute(sql)\n",
    "end_nodes=cursor.fetchall()\n",
    "\n",
    "print(start_nodes[:10])\n",
    "print(\"-------------------\")\n",
    "print(end_nodes[:10])"
   ]
  },
  {
   "cell_type": "code",
   "execution_count": 10,
   "metadata": {},
   "outputs": [
    {
     "output_type": "stream",
     "name": "stdout",
     "text": [
      "248.68083397029991 [(104.07437, 30.71442), (104.07394, 30.71661)]\n"
     ]
    }
   ],
   "source": [
    "row=None\n",
    "\n",
    "left=0\n",
    "right=0\n",
    "step=1\n",
    "flag=True\n",
    "\n",
    "# while not row:\n",
    "#     sql=\"select distance, path from dijkstra where source_lng={} and source_lat={} and target_lng={} and target_lat={}\".format(start_nodes[left][0], start_nodes[left][1], end_nodes[right][0], end_nodes[right][1])\n",
    "\n",
    "#     cursor.execute(sql)\n",
    "#     row=cursor.fetchone()\n",
    "\n",
    "#     if not row:\n",
    "#         if left+step>len(start_nodes)-1 or right+step>len(end_nodes)-1:\n",
    "#             left=0\n",
    "#             right=0\n",
    "#             step+=1\n",
    "#             # print(step)\n",
    "#             flag=False\n",
    "#         if left==right:\n",
    "#             right+=step\n",
    "#         elif right==left+step:\n",
    "#             left+=step\n",
    "#             right-=step\n",
    "#         elif left==right+step:\n",
    "#             right+=step\n",
    "#             if not flag:\n",
    "#                 left-=step-1\n",
    "#                 right+=1\n",
    "\n",
    "#         continue\n",
    "\n",
    "sql=\"select distance, path from dijkstra order by abs(source_lng-{})+abs(source_lat-{})+abs(target_lng-{})+abs(target_lat-{}) limit 1\".format(p1[0], p1[1], p2[0], p2[1])\n",
    "\n",
    "cursor.execute(sql)\n",
    "row=cursor.fetchone()\n",
    "\n",
    "distance=row[0]\n",
    "node_path=eval(row[1])\n",
    "print(distance, node_path)"
   ]
  },
  {
   "cell_type": "code",
   "execution_count": 13,
   "metadata": {},
   "outputs": [
    {
     "output_type": "execute_result",
     "data": {
      "text/plain": [
       "0    LINESTRING (104.07437 30.71442, 104.07420 30.7...\n",
       "dtype: geometry"
      ]
     },
     "metadata": {},
     "execution_count": 13
    }
   ],
   "source": [
    "import shapely.wkt as wkt\n",
    "import geopandas as gp\n",
    "\n",
    "edges=[]\n",
    "for i in range(len(node_path)-1):\n",
    "    sql=\"select edge from nodes_edge where source_lng={} and source_lat={} and target_lng={} and target_lat={}\".format(node_path[i][0], node_path[i][1], node_path[i+1][0], node_path[i+1][1])\n",
    "\n",
    "    cursor.execute(sql)\n",
    "    row=cursor.fetchone()\n",
    "\n",
    "    edge=row[0]\n",
    "    edge=wkt.loads(edge)\n",
    "\n",
    "    edges.append(edge)\n",
    "\n",
    "roads=gp.GeoSeries(edges)\n",
    "roads"
   ]
  },
  {
   "cell_type": "code",
   "execution_count": 18,
   "metadata": {},
   "outputs": [
    {
     "output_type": "stream",
     "name": "stdout",
     "text": [
      "2\n3\n4\n5\n6\n7\n8\n9\n10\n11\n12\n13\n14\n15\n16\n17\n18\n19\n20\n21\n22\n23\n24\n25\n26\n27\n28\n29\n30\n31\n32\n33\n34\n35\n36\n37\n38\n39\n40\n41\n42\n43\n44\n45\n46\n47\n48\n49\n50\n51\n52\n53\n54\n55\n56\n57\n58\n59\n60\n61\n62\n63\n64\n65\n66\n67\n68\n69\n70\n71\n72\n73\n74\n75\n76\n77\n78\n79\n80\n81\n82\n83\n84\n85\n86\n87\n88\n89\n90\n91\n92\n93\n94\n95\n96\n97\n98\n99\n100\n(array([], dtype=int64),)\n"
     ]
    }
   ],
   "source": [
    "import numpy as np\n",
    "\n",
    "a=[1]*100\n",
    "b=[1]*100\n",
    "flags=[[0]*100]*100\n",
    "\n",
    "left=0\n",
    "right=0\n",
    "step=1\n",
    "\n",
    "while True:\n",
    "    if step>=len(a):\n",
    "        break\n",
    "\n",
    "    flags[left][right]=1\n",
    "\n",
    "    if left+step>len(a)-1 or right+step>len(b)-1:\n",
    "        left=0\n",
    "        right=0\n",
    "        step+=1\n",
    "        # print(step)\n",
    "        flag=False\n",
    "    if left==right:\n",
    "        right+=step\n",
    "    elif right==left+step:\n",
    "        left+=step\n",
    "        right-=step\n",
    "    elif left==right+step:\n",
    "        right+=step\n",
    "        if not flag:\n",
    "            left-=step-1\n",
    "            right+=1\n",
    "\n",
    "print(np.where(flags==0))"
   ]
  }
 ]
}