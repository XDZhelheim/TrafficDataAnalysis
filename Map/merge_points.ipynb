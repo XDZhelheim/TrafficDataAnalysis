{
 "metadata": {
  "language_info": {
   "codemirror_mode": {
    "name": "ipython",
    "version": 3
   },
   "file_extension": ".py",
   "mimetype": "text/x-python",
   "name": "python",
   "nbconvert_exporter": "python",
   "pygments_lexer": "ipython3",
   "version": "3.8.5"
  },
  "orig_nbformat": 2,
  "kernelspec": {
   "name": "python385jvsc74a57bd04ce0e62306dd6a5716965d4519ada776f947e6dfc145b604b11307c10277ef29",
   "display_name": "Python 3.8.5 64-bit"
  }
 },
 "nbformat": 4,
 "nbformat_minor": 2,
 "cells": [
  {
   "cell_type": "code",
   "execution_count": 72,
   "metadata": {},
   "outputs": [],
   "source": [
    "import networkx as nx\n",
    "import shapely.wkt as wkt\n",
    "\n",
    "graph=nx.read_shp(\"./boundary_shapefile/boundary.shp\")"
   ]
  },
  {
   "cell_type": "code",
   "execution_count": 73,
   "metadata": {},
   "outputs": [],
   "source": [
    "p1=(104.08143, 30.69705)\n",
    "# p2=(104.08145, 30.69757)\n",
    "p2=(104.03855, 30.71273)"
   ]
  },
  {
   "cell_type": "code",
   "execution_count": 74,
   "metadata": {},
   "outputs": [
    {
     "output_type": "stream",
     "name": "stdout",
     "text": [
      "[((104.08139, 30.69641), (104.08143, 30.69705))]\n[((104.08143, 30.69705), (104.08145, 30.69757))]\n{'FID': 479, 'ShpName': 'boundary', 'Wkb': b'\\x00\\x00\\x00\\x00\\x02\\x00\\x00\\x00\\x02@Z\\x055~g\\x0e,@>\\xb2G\\xec\\xfe\\x9b|@Z\\x056&,\\xbas@>\\xb2q\\xdei\\xadC', 'Wkt': 'LINESTRING (104.08139 30.69641,104.08143 30.69705)', 'Json': '{ \"type\": \"LineString\", \"coordinates\": [ [ 104.08139, 30.69641 ], [ 104.08143, 30.69705 ] ] }'}\n"
     ]
    }
   ],
   "source": [
    "# https://stackoverflow.com/questions/33078907/get-all-edges-linked-to-a-given-node-in-a-networkx-graph\n",
    "print(graph.in_edges(p1))\n",
    "print(graph.out_edges(p1))\n",
    "print(graph.get_edge_data((104.08139, 30.69641), (104.08143, 30.69705)))"
   ]
  },
  {
   "cell_type": "code",
   "execution_count": 75,
   "metadata": {},
   "outputs": [],
   "source": [
    "def combine_nodes(graph, p1, p2):\n",
    "    # https://stackoverflow.com/questions/40674597/networkx-add-node-seems-to-ignore-attributes-parsed-as-dictionary\n",
    "    # global graph\n",
    "\n",
    "    # if not p1 in graph.nodes or not p2 in graph.nodes:\n",
    "    #     return p1\n",
    "\n",
    "    new_node=((p1[0]+p2[0])/2, (p1[1]+p2[1])/2)\n",
    "    graph.add_node(new_node)\n",
    "\n",
    "    for pair in graph.out_edges(p1):\n",
    "        edge=graph.get_edge_data(pair[0], pair[1])\n",
    "        if pair[1]!=p2:\n",
    "            graph.add_edge(new_node, pair[1], **edge)\n",
    "\n",
    "    for pair in graph.in_edges(p1):\n",
    "        edge=graph.get_edge_data(pair[0], pair[1])\n",
    "        if pair[0]!=p2:\n",
    "            graph.add_edge(pair[0], new_node, **edge)\n",
    "\n",
    "    for pair in graph.out_edges(p2):\n",
    "        edge=graph.get_edge_data(pair[0], pair[1])\n",
    "        if pair[1]!=p1:\n",
    "            graph.add_edge(new_node, pair[1], **edge)\n",
    "\n",
    "    for pair in graph.in_edges(p2):\n",
    "        edge=graph.get_edge_data(pair[0], pair[1])\n",
    "        if pair[0]!=p1:\n",
    "            graph.add_edge(pair[0], new_node, **edge)\n",
    "\n",
    "    graph.remove_node(p1)\n",
    "    graph.remove_node(p2)\n",
    "\n",
    "    # print(\"nodes = {}\".format(len(graph.nodes)))\n",
    "\n",
    "    return new_node"
   ]
  },
  {
   "cell_type": "code",
   "execution_count": 76,
   "metadata": {},
   "outputs": [
    {
     "output_type": "execute_result",
     "data": {
      "text/plain": [
       "(1.5, 1.5)"
      ]
     },
     "metadata": {},
     "execution_count": 76
    }
   ],
   "source": [
    "g=nx.DiGraph()\n",
    "g.add_edge((1, 1), (2, 2), weight=1)\n",
    "g.add_edge((2, 2), (3, 3), weight=2)\n",
    "g.add_edge((3, 3), (1, 1), weight=3)\n",
    "\n",
    "combine_nodes(g, (1, 1), (2, 2))"
   ]
  },
  {
   "cell_type": "code",
   "execution_count": 77,
   "metadata": {},
   "outputs": [
    {
     "output_type": "stream",
     "name": "stdout",
     "text": [
      "[((3, 3), (1.5, 1.5))]\n[((1.5, 1.5), (3, 3))]\n{'weight': 2}\n{'weight': 3}\n2\n"
     ]
    }
   ],
   "source": [
    "print(g.in_edges((1.5, 1.5)))\n",
    "print(g.out_edges((1.5, 1.5)))\n",
    "\n",
    "print(g.get_edge_data((1.5, 1.5), (3, 3)))\n",
    "print(g.get_edge_data((3, 3), (1.5, 1.5)))\n",
    "\n",
    "print(len(g.nodes))"
   ]
  },
  {
   "cell_type": "code",
   "execution_count": 78,
   "metadata": {},
   "outputs": [],
   "source": [
    "def get_manhattan_distance(p1, p2):\n",
    "    return abs(p1[0]-p2[0])+abs(p1[1]-p2[1])"
   ]
  },
  {
   "cell_type": "code",
   "execution_count": 79,
   "metadata": {
    "tags": []
   },
   "outputs": [],
   "source": [
    "clusters=[]\n",
    "nodes=list(graph.nodes)\n",
    "for i in range(len(nodes)):\n",
    "    cluster=[nodes[i]]\n",
    "    for j in range(i+1, len(nodes)):\n",
    "        if get_manhattan_distance(nodes[i], nodes[j])<0.0003:\n",
    "            cluster.append(nodes[j])\n",
    "    clusters.append(cluster)\n",
    "\n",
    "for cluster in clusters:\n",
    "    node=cluster[0]\n",
    "    if not node in graph.nodes:\n",
    "        continue\n",
    "    for j in range(1, len(cluster)):\n",
    "        try:\n",
    "            if not cluster[j] in graph.nodes:\n",
    "                continue\n",
    "            node=combine_nodes(graph, node, cluster[j])\n",
    "        except nx.NetworkXError:\n",
    "            pass"
   ]
  },
  {
   "cell_type": "code",
   "execution_count": 80,
   "metadata": {},
   "outputs": [],
   "source": [
    "nx.write_gpickle(graph, \"./road_graph.gpickle\")"
   ]
  },
  {
   "cell_type": "code",
   "execution_count": 81,
   "metadata": {},
   "outputs": [
    {
     "output_type": "stream",
     "name": "stdout",
     "text": [
      "4248\n8335\n"
     ]
    }
   ],
   "source": [
    "g=nx.read_gpickle(\"./road_graph.gpickle\")\n",
    "graph=nx.read_shp(\"./boundary_shapefile/boundary.shp\")\n",
    "\n",
    "print(len(g.nodes))\n",
    "print(len(graph.nodes))"
   ]
  }
 ]
}